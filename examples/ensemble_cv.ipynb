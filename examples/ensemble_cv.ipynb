{
 "cells": [
  {
   "cell_type": "code",
   "execution_count": 1,
   "metadata": {},
   "outputs": [
    {
     "name": "stderr",
     "output_type": "stream",
     "text": [
      "Skipped loading some Tensorflow models, missing a dependency. No module named 'tensorflow'\n",
      "Skipped loading modules with pytorch-geometric dependency, missing a dependency. No module named 'torch_geometric'\n",
      "Skipped loading modules with pytorch-geometric dependency, missing a dependency. cannot import name 'DMPNN' from 'deepchem.models.torch_models' (/home/ary2260/miniconda3/envs/testenv/lib/python3.9/site-packages/deepchem/models/torch_models/__init__.py)\n",
      "Skipped loading modules with pytorch-lightning dependency, missing a dependency. No module named 'pytorch_lightning'\n",
      "Skipped loading some Jax models, missing a dependency. No module named 'jax'\n"
     ]
    }
   ],
   "source": [
    "import deepchem as dc\n",
    "from openpom.feat.graph_featurizer import GraphFeaturizer, GraphConvConstants\n",
    "from openpom.utils.data_utils import get_class_imbalance_ratio, IterativeStratifiedSplitter\n",
    "from openpom.models.mpnn_pom import MPNNPOMModel\n",
    "from datetime import datetime\n",
    "from tqdm import tqdm\n",
    "import torch\n",
    "import numpy as np\n",
    "from sklearn.metrics import roc_auc_score"
   ]
  },
  {
   "cell_type": "code",
   "execution_count": 3,
   "metadata": {},
   "outputs": [
    {
     "name": "stdout",
     "output_type": "stream",
     "text": [
      "No of tasks:  138\n"
     ]
    }
   ],
   "source": [
    "TASKS = [\n",
    "'alcoholic', 'aldehydic', 'alliaceous', 'almond', 'amber', 'animal',\n",
    "'anisic', 'apple', 'apricot', 'aromatic', 'balsamic', 'banana', 'beefy',\n",
    "'bergamot', 'berry', 'bitter', 'black currant', 'brandy', 'burnt',\n",
    "'buttery', 'cabbage', 'camphoreous', 'caramellic', 'cedar', 'celery',\n",
    "'chamomile', 'cheesy', 'cherry', 'chocolate', 'cinnamon', 'citrus', 'clean',\n",
    "'clove', 'cocoa', 'coconut', 'coffee', 'cognac', 'cooked', 'cooling',\n",
    "'cortex', 'coumarinic', 'creamy', 'cucumber', 'dairy', 'dry', 'earthy',\n",
    "'ethereal', 'fatty', 'fermented', 'fishy', 'floral', 'fresh', 'fruit skin',\n",
    "'fruity', 'garlic', 'gassy', 'geranium', 'grape', 'grapefruit', 'grassy',\n",
    "'green', 'hawthorn', 'hay', 'hazelnut', 'herbal', 'honey', 'hyacinth',\n",
    "'jasmin', 'juicy', 'ketonic', 'lactonic', 'lavender', 'leafy', 'leathery',\n",
    "'lemon', 'lily', 'malty', 'meaty', 'medicinal', 'melon', 'metallic',\n",
    "'milky', 'mint', 'muguet', 'mushroom', 'musk', 'musty', 'natural', 'nutty',\n",
    "'odorless', 'oily', 'onion', 'orange', 'orangeflower', 'orris', 'ozone',\n",
    "'peach', 'pear', 'phenolic', 'pine', 'pineapple', 'plum', 'popcorn',\n",
    "'potato', 'powdery', 'pungent', 'radish', 'raspberry', 'ripe', 'roasted',\n",
    "'rose', 'rummy', 'sandalwood', 'savory', 'sharp', 'smoky', 'soapy',\n",
    "'solvent', 'sour', 'spicy', 'strawberry', 'sulfurous', 'sweaty', 'sweet',\n",
    "'tea', 'terpenic', 'tobacco', 'tomato', 'tropical', 'vanilla', 'vegetable',\n",
    "'vetiver', 'violet', 'warm', 'waxy', 'weedy', 'winey', 'woody'\n",
    "]\n",
    "\n",
    "print(\"No of tasks: \", len(TASKS))\n",
    "n_tasks = len(TASKS)"
   ]
  },
  {
   "cell_type": "markdown",
   "metadata": {},
   "source": [
    "save train and test splits"
   ]
  },
  {
   "cell_type": "code",
   "execution_count": 4,
   "metadata": {},
   "outputs": [],
   "source": [
    "# uncomment and run if no splits saved yet\n",
    "\n",
    "# download curated dataset\n",
    "# !wget https://raw.githubusercontent.com/ARY2260/openpom/main/openpom/data/curated_datasets/curated_GS_LF_merged_4983.csv\n",
    "\n",
    "# The curated dataset can also found at `openpom/data/curated_datasets/curated_GS_LF_merged_4983.csv` in the repo.\n",
    "\n",
    "input_file = 'curated_GS_LF_merged_4983.csv' # or new downloaded file path\n",
    "\n",
    "# get dataset\n",
    "\n",
    "featurizer = GraphFeaturizer()\n",
    "smiles_field = 'nonStereoSMILES'\n",
    "loader = dc.data.CSVLoader(tasks=TASKS,\n",
    "                   feature_field=smiles_field,\n",
    "                   featurizer=featurizer)\n",
    "dataset = loader.create_dataset(inputs=[input_file])\n",
    "n_tasks = len(dataset.tasks)\n",
    "\n",
    "# get k folds list\n",
    "k = 5\n",
    "splitter = IterativeStratifiedSplitter(order=2)\n",
    "directories = ['']*2*k\n",
    "for fold in range(k):\n",
    "    directories[2 * fold] = f'./ensemble_cv_exp/fold_{fold+1}/train_data'\n",
    "    directories[2 * fold + 1] = f'./ensemble_cv_exp/fold_{fold+1}/cv_data'\n",
    "folds_list = splitter.k_fold_split(dataset=dataset, k=k, directories=directories)"
   ]
  },
  {
   "cell_type": "markdown",
   "metadata": {},
   "source": [
    "ensemble function"
   ]
  },
  {
   "cell_type": "code",
   "execution_count": 6,
   "metadata": {},
   "outputs": [],
   "source": [
    "def benchmark_ensemble(fold, train_dataset, test_dataset, n_models, nb_epoch):\n",
    "    train_ratios = get_class_imbalance_ratio(train_dataset)\n",
    "    assert len(train_ratios) == n_tasks\n",
    "\n",
    "    # learning_rate = 0.001\n",
    "    learning_rate = dc.models.optimizers.ExponentialDecay(initial_rate=0.001, decay_rate=0.5, decay_steps=32*20, staircase=True)\n",
    "    metric = dc.metrics.Metric(dc.metrics.roc_auc_score)\n",
    "\n",
    "    # fit models\n",
    "    for i in tqdm(range(n_models)):\n",
    "        model = MPNNPOMModel(n_tasks = n_tasks,\n",
    "                                batch_size=128,\n",
    "                                learning_rate=learning_rate,\n",
    "                                class_imbalance_ratio = train_ratios,\n",
    "                                loss_aggr_type = 'sum',\n",
    "                                node_out_feats = 100,\n",
    "                                edge_hidden_feats = 75,\n",
    "                                edge_out_feats = 100,\n",
    "                                num_step_message_passing = 5,\n",
    "                                mpnn_residual = True,\n",
    "                                message_aggregator_type = 'sum',\n",
    "                                mode = 'classification',\n",
    "                                number_atom_features = GraphConvConstants.ATOM_FDIM,\n",
    "                                number_bond_features = GraphConvConstants.BOND_FDIM,\n",
    "                                n_classes = 1,\n",
    "                                readout_type = 'set2set',\n",
    "                                num_step_set2set = 3,\n",
    "                                num_layer_set2set = 2,\n",
    "                                ffn_hidden_list= [392, 392],\n",
    "                                ffn_embeddings = 256,\n",
    "                                ffn_activation = 'relu',\n",
    "                                ffn_dropout_p = 0.12,\n",
    "                                ffn_dropout_at_input_no_act = False,\n",
    "                                weight_decay = 1e-5,\n",
    "                                self_loop = False,\n",
    "                                optimizer_name = 'adam',\n",
    "                                log_frequency = 32,\n",
    "                                model_dir = f'./ensemble_cv_exp/ensemble_fold_{fold+1}/experiments_{i+1}',\n",
    "                                device_name='cuda')\n",
    "\n",
    "        start_time = datetime.now()\n",
    "        \n",
    "        # fit model\n",
    "        loss = model.fit(\n",
    "            train_dataset,\n",
    "            nb_epoch=nb_epoch,\n",
    "            max_checkpoints_to_keep=1,\n",
    "            deterministic=False,\n",
    "            restore=False)\n",
    "        end_time = datetime.now()\n",
    "        \n",
    "        train_scores = model.evaluate(train_dataset, [metric])['roc_auc_score']\n",
    "        test_scores = model.evaluate(test_dataset, [metric])['roc_auc_score']\n",
    "        print(f\"loss = {loss}; train_scores = {train_scores}; test_scores = {test_scores}; time_taken = {str(end_time-start_time)}\")\n",
    "        model.save_checkpoint() # saves final checkpoint => `checkpoint2.pt`\n",
    "        del model\n",
    "        torch.cuda.empty_cache()    \n",
    "\n",
    "    # Get test score from the ensemble\n",
    "    list_preds = []\n",
    "    for i in range(n_models):\n",
    "        model = MPNNPOMModel(n_tasks = n_tasks,\n",
    "                                batch_size=128,\n",
    "                                learning_rate=learning_rate,\n",
    "                                class_imbalance_ratio = train_ratios,\n",
    "                                loss_aggr_type = 'sum',\n",
    "                                node_out_feats = 100,\n",
    "                                edge_hidden_feats = 75,\n",
    "                                edge_out_feats = 100,\n",
    "                                num_step_message_passing = 5,\n",
    "                                mpnn_residual = True,\n",
    "                                message_aggregator_type = 'sum',\n",
    "                                mode = 'classification',\n",
    "                                number_atom_features = GraphConvConstants.ATOM_FDIM,\n",
    "                                number_bond_features = GraphConvConstants.BOND_FDIM,\n",
    "                                n_classes = 1,\n",
    "                                readout_type = 'set2set',\n",
    "                                num_step_set2set = 3,\n",
    "                                num_layer_set2set = 2,\n",
    "                                ffn_hidden_list= [392, 392],\n",
    "                                ffn_embeddings = 256,\n",
    "                                ffn_activation = 'relu',\n",
    "                                ffn_dropout_p = 0.12,\n",
    "                                ffn_dropout_at_input_no_act = False,\n",
    "                                weight_decay = 1e-5,\n",
    "                                self_loop = False,\n",
    "                                optimizer_name = 'adam',\n",
    "                                log_frequency = 32,\n",
    "                                model_dir = f'./ensemble_cv_exp/ensemble_fold_{fold+1}/experiments_{i+1}',\n",
    "                                device_name='cuda')\n",
    "        model.restore(f\"./ensemble_cv_exp/ensemble_fold_{fold+1}/experiments_{i+1}/checkpoint2.pt\")\n",
    "        # test_scores = model.evaluate(test_dataset, [metric])['roc_auc_score']\n",
    "        # print(\"test_score: \", test_scores)\n",
    "        preds = model.predict(test_dataset)\n",
    "        list_preds.append(preds)\n",
    "\n",
    "    preds_arr = np.asarray(list_preds)\n",
    "    ensemble_preds = np.mean(preds_arr, axis=0)\n",
    "    return roc_auc_score(test_dataset.y, ensemble_preds, average=\"macro\")"
   ]
  },
  {
   "cell_type": "markdown",
   "metadata": {},
   "source": [
    "k-fold ensemble cv"
   ]
  },
  {
   "cell_type": "code",
   "execution_count": 7,
   "metadata": {},
   "outputs": [
    {
     "name": "stderr",
     "output_type": "stream",
     "text": [
      "  0%|          | 0/5 [00:00<?, ?it/s]"
     ]
    },
    {
     "name": "stdout",
     "output_type": "stream",
     "text": [
      "Fold 1 ensemble starting now.\n",
      "train_dataset:  3994\n",
      "test_dataset:  989\n"
     ]
    },
    {
     "name": "stderr",
     "output_type": "stream",
     "text": []
    },
    {
     "name": "stdout",
     "output_type": "stream",
     "text": [
      "loss = 1.602946400642395; train_scores = 0.9573782936182699; test_scores = 0.8619264719732461; time_taken = 0:03:22.696741\n"
     ]
    },
    {
     "name": "stderr",
     "output_type": "stream",
     "text": []
    },
    {
     "name": "stdout",
     "output_type": "stream",
     "text": [
      "loss = 1.7123421430587769; train_scores = 0.9516135507806346; test_scores = 0.8679550912444497; time_taken = 0:03:28.300721\n"
     ]
    },
    {
     "name": "stderr",
     "output_type": "stream",
     "text": []
    },
    {
     "name": "stdout",
     "output_type": "stream",
     "text": [
      "loss = 1.7177332639694214; train_scores = 0.9527891970355443; test_scores = 0.8698497855865827; time_taken = 0:03:25.572594\n"
     ]
    },
    {
     "name": "stderr",
     "output_type": "stream",
     "text": []
    },
    {
     "name": "stdout",
     "output_type": "stream",
     "text": [
      "loss = 1.5549460649490356; train_scores = 0.9590565838631848; test_scores = 0.8645696064279992; time_taken = 0:03:26.309895\n"
     ]
    },
    {
     "name": "stderr",
     "output_type": "stream",
     "text": []
    },
    {
     "name": "stdout",
     "output_type": "stream",
     "text": [
      "loss = 1.591578722000122; train_scores = 0.9567737098911611; test_scores = 0.8638853759211453; time_taken = 0:03:27.898788\n"
     ]
    },
    {
     "name": "stderr",
     "output_type": "stream",
     "text": []
    },
    {
     "name": "stdout",
     "output_type": "stream",
     "text": [
      "loss = 1.7490513324737549; train_scores = 0.9525932292292579; test_scores = 0.8684517452037261; time_taken = 0:03:30.054433\n"
     ]
    },
    {
     "name": "stderr",
     "output_type": "stream",
     "text": []
    },
    {
     "name": "stdout",
     "output_type": "stream",
     "text": [
      "loss = 1.675291657447815; train_scores = 0.9535856714493168; test_scores = 0.8661345677993382; time_taken = 0:03:31.652793\n"
     ]
    },
    {
     "name": "stderr",
     "output_type": "stream",
     "text": []
    },
    {
     "name": "stdout",
     "output_type": "stream",
     "text": [
      "loss = 1.5871241092681885; train_scores = 0.9569126110699124; test_scores = 0.8645815506302926; time_taken = 0:03:26.488101\n"
     ]
    },
    {
     "name": "stderr",
     "output_type": "stream",
     "text": []
    },
    {
     "name": "stdout",
     "output_type": "stream",
     "text": [
      "loss = 1.671047568321228; train_scores = 0.9544220697453305; test_scores = 0.8652644472198971; time_taken = 0:03:25.730467\n"
     ]
    },
    {
     "name": "stderr",
     "output_type": "stream",
     "text": [
      "100%|██████████| 10/10 [34:57<00:00, 209.78s/it]"
     ]
    },
    {
     "name": "stdout",
     "output_type": "stream",
     "text": [
      "loss = 1.6051044464111328; train_scores = 0.9566160782580831; test_scores = 0.8662061907387457; time_taken = 0:03:24.211496\n"
     ]
    },
    {
     "name": "stderr",
     "output_type": "stream",
     "text": [
      "\n",
      " 20%|██        | 1/5 [35:01<2:20:07, 2101.98s/it]"
     ]
    },
    {
     "name": "stdout",
     "output_type": "stream",
     "text": [
      "Fold 1 ensemble score:  0.8802498900589238\n",
      "Fold 2 ensemble starting now.\n",
      "train_dataset:  3988\n",
      "test_dataset:  995\n"
     ]
    },
    {
     "name": "stderr",
     "output_type": "stream",
     "text": []
    },
    {
     "name": "stdout",
     "output_type": "stream",
     "text": [
      "loss = 1.6331684589385986; train_scores = 0.9572770816336202; test_scores = 0.8675395615210458; time_taken = 0:03:25.215443\n"
     ]
    },
    {
     "name": "stderr",
     "output_type": "stream",
     "text": []
    },
    {
     "name": "stdout",
     "output_type": "stream",
     "text": [
      "loss = 1.6307778358459473; train_scores = 0.9569133063619496; test_scores = 0.8708435044881226; time_taken = 0:03:24.810993\n"
     ]
    },
    {
     "name": "stderr",
     "output_type": "stream",
     "text": []
    },
    {
     "name": "stdout",
     "output_type": "stream",
     "text": [
      "loss = 1.6235440969467163; train_scores = 0.9572732502679622; test_scores = 0.8691813368755597; time_taken = 0:03:24.281109\n"
     ]
    },
    {
     "name": "stderr",
     "output_type": "stream",
     "text": []
    },
    {
     "name": "stdout",
     "output_type": "stream",
     "text": [
      "loss = 1.581465721130371; train_scores = 0.9596041217046359; test_scores = 0.8630852874323088; time_taken = 0:03:25.069537\n"
     ]
    },
    {
     "name": "stderr",
     "output_type": "stream",
     "text": []
    },
    {
     "name": "stdout",
     "output_type": "stream",
     "text": [
      "loss = 1.7407536506652832; train_scores = 0.9518970919376928; test_scores = 0.8699534579710783; time_taken = 0:03:24.455301\n"
     ]
    },
    {
     "name": "stderr",
     "output_type": "stream",
     "text": []
    },
    {
     "name": "stdout",
     "output_type": "stream",
     "text": [
      "loss = 1.6258453130722046; train_scores = 0.9569523099714665; test_scores = 0.8666191121919123; time_taken = 0:03:23.890024\n"
     ]
    },
    {
     "name": "stderr",
     "output_type": "stream",
     "text": []
    },
    {
     "name": "stdout",
     "output_type": "stream",
     "text": [
      "loss = 1.598294973373413; train_scores = 0.9579064515449388; test_scores = 0.8663640727193488; time_taken = 0:03:23.847932\n"
     ]
    },
    {
     "name": "stderr",
     "output_type": "stream",
     "text": []
    },
    {
     "name": "stdout",
     "output_type": "stream",
     "text": [
      "loss = 1.6992689371109009; train_scores = 0.9540255750135058; test_scores = 0.8719236540195762; time_taken = 0:03:25.576752\n"
     ]
    },
    {
     "name": "stderr",
     "output_type": "stream",
     "text": []
    },
    {
     "name": "stdout",
     "output_type": "stream",
     "text": [
      "loss = 1.6321995258331299; train_scores = 0.9563247708148885; test_scores = 0.8671564655438307; time_taken = 0:03:24.991050\n"
     ]
    },
    {
     "name": "stderr",
     "output_type": "stream",
     "text": [
      "100%|██████████| 10/10 [34:31<00:00, 207.18s/it]"
     ]
    },
    {
     "name": "stdout",
     "output_type": "stream",
     "text": [
      "loss = 1.6467114686965942; train_scores = 0.9567361569329887; test_scores = 0.8683231192870885; time_taken = 0:03:24.209468\n"
     ]
    },
    {
     "name": "stderr",
     "output_type": "stream",
     "text": [
      "\n",
      " 40%|████      | 2/5 [1:09:37<1:44:20, 2086.67s/it]"
     ]
    },
    {
     "name": "stdout",
     "output_type": "stream",
     "text": [
      "Fold 2 ensemble score:  0.8833461785359447\n",
      "Fold 3 ensemble starting now.\n",
      "train_dataset:  3981\n",
      "test_dataset:  1002\n"
     ]
    },
    {
     "name": "stderr",
     "output_type": "stream",
     "text": []
    },
    {
     "name": "stdout",
     "output_type": "stream",
     "text": [
      "loss = 1.7821837663650513; train_scores = 0.9480605868199463; test_scores = 0.8778291734609055; time_taken = 0:03:23.828294\n"
     ]
    },
    {
     "name": "stderr",
     "output_type": "stream",
     "text": []
    },
    {
     "name": "stdout",
     "output_type": "stream",
     "text": [
      "loss = 1.7599914073944092; train_scores = 0.9499915897368165; test_scores = 0.875309448837871; time_taken = 0:03:23.349994\n"
     ]
    },
    {
     "name": "stderr",
     "output_type": "stream",
     "text": []
    },
    {
     "name": "stdout",
     "output_type": "stream",
     "text": [
      "loss = 1.6278693675994873; train_scores = 0.9538902208206419; test_scores = 0.8761430254140432; time_taken = 0:03:23.374420\n"
     ]
    },
    {
     "name": "stderr",
     "output_type": "stream",
     "text": []
    },
    {
     "name": "stdout",
     "output_type": "stream",
     "text": [
      "loss = 1.606948971748352; train_scores = 0.9558009539984417; test_scores = 0.8723456373025213; time_taken = 0:03:23.916598\n"
     ]
    },
    {
     "name": "stderr",
     "output_type": "stream",
     "text": []
    },
    {
     "name": "stdout",
     "output_type": "stream",
     "text": [
      "loss = 1.7159382104873657; train_scores = 0.9513317332815805; test_scores = 0.8790271651786437; time_taken = 0:03:23.769899\n"
     ]
    },
    {
     "name": "stderr",
     "output_type": "stream",
     "text": []
    },
    {
     "name": "stdout",
     "output_type": "stream",
     "text": [
      "loss = 1.7434948682785034; train_scores = 0.9512211546151439; test_scores = 0.8785291976984827; time_taken = 0:03:27.689710\n"
     ]
    },
    {
     "name": "stderr",
     "output_type": "stream",
     "text": []
    },
    {
     "name": "stdout",
     "output_type": "stream",
     "text": [
      "loss = 1.7429672479629517; train_scores = 0.9498796455767667; test_scores = 0.8791625968144707; time_taken = 0:03:18.662938\n"
     ]
    },
    {
     "name": "stderr",
     "output_type": "stream",
     "text": []
    },
    {
     "name": "stdout",
     "output_type": "stream",
     "text": [
      "loss = 1.7444663047790527; train_scores = 0.9507566006992153; test_scores = 0.8791111153150692; time_taken = 0:03:17.860106\n"
     ]
    },
    {
     "name": "stderr",
     "output_type": "stream",
     "text": []
    },
    {
     "name": "stdout",
     "output_type": "stream",
     "text": [
      "loss = 1.6613742113113403; train_scores = 0.9535482399520437; test_scores = 0.8728884911894442; time_taken = 0:03:17.970507\n"
     ]
    },
    {
     "name": "stderr",
     "output_type": "stream",
     "text": [
      "100%|██████████| 10/10 [34:03<00:00, 204.33s/it]"
     ]
    },
    {
     "name": "stdout",
     "output_type": "stream",
     "text": [
      "loss = 1.7225234508514404; train_scores = 0.9507294973842125; test_scores = 0.8798746323575618; time_taken = 0:03:17.968098\n"
     ]
    },
    {
     "name": "stderr",
     "output_type": "stream",
     "text": [
      "\n",
      " 60%|██████    | 3/5 [1:43:45<1:08:57, 2068.69s/it]"
     ]
    },
    {
     "name": "stdout",
     "output_type": "stream",
     "text": [
      "Fold 3 ensemble score:  0.8915876567036708\n",
      "Fold 4 ensemble starting now.\n",
      "train_dataset:  3983\n",
      "test_dataset:  1000\n"
     ]
    },
    {
     "name": "stderr",
     "output_type": "stream",
     "text": []
    },
    {
     "name": "stdout",
     "output_type": "stream",
     "text": [
      "loss = 1.6839109659194946; train_scores = 0.9534995548081688; test_scores = 0.8758056054368107; time_taken = 0:03:20.737952\n"
     ]
    },
    {
     "name": "stderr",
     "output_type": "stream",
     "text": []
    },
    {
     "name": "stdout",
     "output_type": "stream",
     "text": [
      "loss = 1.6778950691223145; train_scores = 0.9536109256200949; test_scores = 0.8773978746831061; time_taken = 0:03:20.602249\n"
     ]
    },
    {
     "name": "stderr",
     "output_type": "stream",
     "text": []
    },
    {
     "name": "stdout",
     "output_type": "stream",
     "text": [
      "loss = 1.7775522470474243; train_scores = 0.9482752698480325; test_scores = 0.8754705961517513; time_taken = 0:03:20.315778\n"
     ]
    },
    {
     "name": "stderr",
     "output_type": "stream",
     "text": []
    },
    {
     "name": "stdout",
     "output_type": "stream",
     "text": [
      "loss = 1.6807106733322144; train_scores = 0.9549300283715169; test_scores = 0.8786754138553686; time_taken = 0:03:20.727292\n"
     ]
    },
    {
     "name": "stderr",
     "output_type": "stream",
     "text": []
    },
    {
     "name": "stdout",
     "output_type": "stream",
     "text": [
      "loss = 1.7207549810409546; train_scores = 0.9517486334893867; test_scores = 0.8795245776854156; time_taken = 0:03:20.567331\n"
     ]
    },
    {
     "name": "stderr",
     "output_type": "stream",
     "text": []
    },
    {
     "name": "stdout",
     "output_type": "stream",
     "text": [
      "loss = 1.721472978591919; train_scores = 0.9529941845122843; test_scores = 0.8766727837683014; time_taken = 0:03:21.147359\n"
     ]
    },
    {
     "name": "stderr",
     "output_type": "stream",
     "text": []
    },
    {
     "name": "stdout",
     "output_type": "stream",
     "text": [
      "loss = 1.6409727334976196; train_scores = 0.9550515223152404; test_scores = 0.878375034212492; time_taken = 0:03:20.859257\n"
     ]
    },
    {
     "name": "stderr",
     "output_type": "stream",
     "text": []
    },
    {
     "name": "stdout",
     "output_type": "stream",
     "text": [
      "loss = 1.588014841079712; train_scores = 0.9567112399963069; test_scores = 0.8773597587592964; time_taken = 0:03:23.396467\n"
     ]
    },
    {
     "name": "stderr",
     "output_type": "stream",
     "text": []
    },
    {
     "name": "stdout",
     "output_type": "stream",
     "text": [
      "loss = 1.659579873085022; train_scores = 0.9549727152963581; test_scores = 0.8736543467433883; time_taken = 0:03:21.310479\n"
     ]
    },
    {
     "name": "stderr",
     "output_type": "stream",
     "text": [
      "100%|██████████| 10/10 [33:55<00:00, 203.51s/it]"
     ]
    },
    {
     "name": "stdout",
     "output_type": "stream",
     "text": [
      "loss = 1.6376241445541382; train_scores = 0.9554515546322584; test_scores = 0.8791135394783586; time_taken = 0:03:21.282930\n"
     ]
    },
    {
     "name": "stderr",
     "output_type": "stream",
     "text": [
      "\n",
      " 80%|████████  | 4/5 [2:17:44<34:17, 2057.01s/it]  "
     ]
    },
    {
     "name": "stdout",
     "output_type": "stream",
     "text": [
      "Fold 4 ensemble score:  0.8909567510889562\n",
      "Fold 5 ensemble starting now.\n",
      "train_dataset:  3986\n",
      "test_dataset:  997\n"
     ]
    },
    {
     "name": "stderr",
     "output_type": "stream",
     "text": []
    },
    {
     "name": "stdout",
     "output_type": "stream",
     "text": [
      "loss = 1.5814951658248901; train_scores = 0.9567928541957521; test_scores = 0.873232571358485; time_taken = 0:03:20.303967\n"
     ]
    },
    {
     "name": "stderr",
     "output_type": "stream",
     "text": []
    },
    {
     "name": "stdout",
     "output_type": "stream",
     "text": [
      "loss = 1.7370232343673706; train_scores = 0.9519036762683463; test_scores = 0.8769478018693341; time_taken = 0:03:20.925562\n"
     ]
    },
    {
     "name": "stderr",
     "output_type": "stream",
     "text": []
    },
    {
     "name": "stdout",
     "output_type": "stream",
     "text": [
      "loss = 1.7711806297302246; train_scores = 0.9490512721170391; test_scores = 0.8785942863988451; time_taken = 0:03:20.991937\n"
     ]
    },
    {
     "name": "stderr",
     "output_type": "stream",
     "text": []
    },
    {
     "name": "stdout",
     "output_type": "stream",
     "text": [
      "loss = 1.5067424774169922; train_scores = 0.95851368732397; test_scores = 0.874140189302476; time_taken = 0:03:20.227078\n"
     ]
    },
    {
     "name": "stderr",
     "output_type": "stream",
     "text": []
    },
    {
     "name": "stdout",
     "output_type": "stream",
     "text": [
      "loss = 1.7253507375717163; train_scores = 0.9510354873976602; test_scores = 0.8743989805445108; time_taken = 0:03:20.234878\n"
     ]
    },
    {
     "name": "stderr",
     "output_type": "stream",
     "text": []
    },
    {
     "name": "stdout",
     "output_type": "stream",
     "text": [
      "loss = 1.643169641494751; train_scores = 0.954979605367864; test_scores = 0.874594626285541; time_taken = 0:03:21.051882\n"
     ]
    },
    {
     "name": "stderr",
     "output_type": "stream",
     "text": []
    },
    {
     "name": "stdout",
     "output_type": "stream",
     "text": [
      "loss = 1.6327861547470093; train_scores = 0.9567314764492976; test_scores = 0.8767777064957204; time_taken = 0:03:19.971998\n"
     ]
    },
    {
     "name": "stderr",
     "output_type": "stream",
     "text": []
    },
    {
     "name": "stdout",
     "output_type": "stream",
     "text": [
      "loss = 1.6557166576385498; train_scores = 0.9545358637797124; test_scores = 0.8746927804035153; time_taken = 0:03:21.059129\n"
     ]
    },
    {
     "name": "stderr",
     "output_type": "stream",
     "text": []
    },
    {
     "name": "stdout",
     "output_type": "stream",
     "text": [
      "loss = 1.5471675395965576; train_scores = 0.958369011186212; test_scores = 0.8716890642086778; time_taken = 0:03:21.230315\n"
     ]
    },
    {
     "name": "stderr",
     "output_type": "stream",
     "text": [
      "100%|██████████| 10/10 [33:51<00:00, 203.16s/it]"
     ]
    },
    {
     "name": "stdout",
     "output_type": "stream",
     "text": [
      "loss = 1.6139239072799683; train_scores = 0.9571089217390171; test_scores = 0.8729007628769709; time_taken = 0:03:21.375321\n"
     ]
    },
    {
     "name": "stderr",
     "output_type": "stream",
     "text": [
      "\n",
      "100%|██████████| 5/5 [2:51:40<00:00, 2060.10s/it]"
     ]
    },
    {
     "name": "stdout",
     "output_type": "stream",
     "text": [
      "Fold 5 ensemble score:  0.8897389680117992\n"
     ]
    },
    {
     "name": "stderr",
     "output_type": "stream",
     "text": [
      "\n"
     ]
    }
   ],
   "source": [
    "n_models = 10\n",
    "nb_epoch = 62\n",
    "folds_results = []\n",
    "for fold in tqdm(range(k)):\n",
    "    print(f\"Fold {fold+1} ensemble starting now.\")\n",
    "    train_dataset = dc.data.DiskDataset(directories[2 * fold])\n",
    "    test_dataset = dc.data.DiskDataset(directories[2 * fold + 1])\n",
    "    print(\"train_dataset: \", len(train_dataset))\n",
    "    print(\"test_dataset: \", len(test_dataset))\n",
    "    fold_result = benchmark_ensemble(fold=fold,\n",
    "                                     train_dataset=train_dataset,\n",
    "                                     test_dataset=test_dataset,\n",
    "                                     n_models=n_models,\n",
    "                                     nb_epoch=nb_epoch)\n",
    "    print(f\"Fold {fold+1} ensemble score: \", fold_result)\n",
    "    folds_results.append(fold_result)"
   ]
  },
  {
   "cell_type": "code",
   "execution_count": 10,
   "metadata": {},
   "outputs": [],
   "source": [
    "cv_mean_result = np.mean(folds_results)\n",
    "\n",
    "with open(\"./ensemble_cv_exp/final_score.txt\", 'w+') as f:\n",
    "    f.write(f\"folds_results = {folds_results}\\n\")\n",
    "    f.write(f\"cv_mean_result = {cv_mean_result}\\n\")"
   ]
  },
  {
   "cell_type": "code",
   "execution_count": 13,
   "metadata": {},
   "outputs": [
    {
     "data": {
      "text/plain": [
       "0.8872"
      ]
     },
     "execution_count": 13,
     "metadata": {},
     "output_type": "execute_result"
    }
   ],
   "source": [
    "round(cv_mean_result, 4)"
   ]
  }
 ],
 "metadata": {
  "kernelspec": {
   "display_name": "testenv",
   "language": "python",
   "name": "python3"
  },
  "language_info": {
   "codemirror_mode": {
    "name": "ipython",
    "version": 3
   },
   "file_extension": ".py",
   "mimetype": "text/x-python",
   "name": "python",
   "nbconvert_exporter": "python",
   "pygments_lexer": "ipython3",
   "version": "3.9.17"
  },
  "orig_nbformat": 4
 },
 "nbformat": 4,
 "nbformat_minor": 2
}
